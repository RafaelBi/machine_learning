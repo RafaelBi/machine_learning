{
 "cells": [
  {
   "cell_type": "markdown",
   "metadata": {
    "colab_type": "text",
    "id": "clRBR9gp60t0"
   },
   "source": [
    "# Измерение качества моделей"
   ]
  },
  {
   "cell_type": "markdown",
   "metadata": {
    "colab_type": "text",
    "id": "KNwcMq2A60t2"
   },
   "source": [
    "## Метрики качества"
   ]
  },
  {
   "cell_type": "markdown",
   "metadata": {
    "colab_type": "text",
    "id": "VLHFdToc60t2"
   },
   "source": [
    "Это практическое задание посвящено ознакомлению с инструментами оценки качества моделей машинного обучения, которые предоставляет библиотека `scikit-learn`. Метрики качества, представленные различными функциями, находятся в модуле `sklearn.metrics`. Мы начнем с загрузки набора данных из файла `data.csv` при помощи функции `read_csv` из библиотеки `pandas`. Этот набор данных содержит информацию о предсказаниях различных алгоритмов машинного обучения для решения задачи классификации. Колонка `prediction` - это результаты работы одного из этих алгоритмов. Целевая переменная содержится в столбце `target` (класс 0 или 1). Подсчитайте значение `true negative`, `false negative`, `true positive` и `false positive`. Запишите эти значения через запятую, сохраняя приведенный порядок, в переменную `answer1`, которая будет являтся строкой. Далее, посчитайте для этих данных значение таких метрик как `precision`, `recall` и `f1 score` с точностью до двух знаков после запятой. Запишите результаты в строго заданном порядке через запятую в переменную `answer2`, которая так же будет являться строкой"
   ]
  },
  {
   "cell_type": "markdown",
   "metadata": {
    "colab_type": "text",
    "id": "S-JSU6Mz60t3"
   },
   "source": [
    "### *РЕШЕНИЕ*"
   ]
  },
  {
   "cell_type": "code",
   "execution_count": 4,
   "metadata": {
    "colab": {
     "base_uri": "https://localhost:8080/",
     "height": 200
    },
    "colab_type": "code",
    "executionInfo": {
     "elapsed": 632,
     "status": "ok",
     "timestamp": 1588918618538,
     "user": {
      "displayName": "Rafael Biktimirov",
      "photoUrl": "https://lh3.googleusercontent.com/a-/AOh14Gj4VYCNgPx80xPbb9qa30e6B_LklXy6natQK-d7DQ=s64",
      "userId": "01349434945202057094"
     },
     "user_tz": -300
    },
    "id": "yS5llmm060t4",
    "outputId": "0207b358-0fca-4fbe-df19-792e3120c41b"
   },
   "outputs": [
    {
     "data": {
      "text/html": [
       "<div>\n",
       "<style scoped>\n",
       "    .dataframe tbody tr th:only-of-type {\n",
       "        vertical-align: middle;\n",
       "    }\n",
       "\n",
       "    .dataframe tbody tr th {\n",
       "        vertical-align: top;\n",
       "    }\n",
       "\n",
       "    .dataframe thead th {\n",
       "        text-align: right;\n",
       "    }\n",
       "</style>\n",
       "<table border=\"1\" class=\"dataframe\">\n",
       "  <thead>\n",
       "    <tr style=\"text-align: right;\">\n",
       "      <th></th>\n",
       "      <th>prediction</th>\n",
       "      <th>scores_1</th>\n",
       "      <th>scores_2</th>\n",
       "      <th>target</th>\n",
       "    </tr>\n",
       "  </thead>\n",
       "  <tbody>\n",
       "    <tr>\n",
       "      <th>0</th>\n",
       "      <td>1</td>\n",
       "      <td>0.89</td>\n",
       "      <td>0.9</td>\n",
       "      <td>1</td>\n",
       "    </tr>\n",
       "    <tr>\n",
       "      <th>1</th>\n",
       "      <td>0</td>\n",
       "      <td>0.06</td>\n",
       "      <td>0.0</td>\n",
       "      <td>0</td>\n",
       "    </tr>\n",
       "    <tr>\n",
       "      <th>2</th>\n",
       "      <td>1</td>\n",
       "      <td>0.71</td>\n",
       "      <td>0.6</td>\n",
       "      <td>0</td>\n",
       "    </tr>\n",
       "    <tr>\n",
       "      <th>3</th>\n",
       "      <td>1</td>\n",
       "      <td>1.00</td>\n",
       "      <td>0.7</td>\n",
       "      <td>1</td>\n",
       "    </tr>\n",
       "    <tr>\n",
       "      <th>4</th>\n",
       "      <td>1</td>\n",
       "      <td>1.00</td>\n",
       "      <td>1.0</td>\n",
       "      <td>1</td>\n",
       "    </tr>\n",
       "  </tbody>\n",
       "</table>\n",
       "</div>"
      ],
      "text/plain": [
       "   prediction  scores_1  scores_2  target\n",
       "0           1      0.89       0.9       1\n",
       "1           0      0.06       0.0       0\n",
       "2           1      0.71       0.6       0\n",
       "3           1      1.00       0.7       1\n",
       "4           1      1.00       1.0       1"
      ]
     },
     "execution_count": 4,
     "metadata": {
      "tags": []
     },
     "output_type": "execute_result"
    }
   ],
   "source": [
    "import pandas as pd\n",
    "from sklearn.metrics import confusion_matrix\n",
    "df=pd.read_csv('data.csv')\n",
    "df.head()"
   ]
  },
  {
   "cell_type": "code",
   "execution_count": 13,
   "metadata": {
    "colab": {
     "base_uri": "https://localhost:8080/",
     "height": 35
    },
    "colab_type": "code",
    "executionInfo": {
     "elapsed": 674,
     "status": "ok",
     "timestamp": 1588918881626,
     "user": {
      "displayName": "Rafael Biktimirov",
      "photoUrl": "https://lh3.googleusercontent.com/a-/AOh14Gj4VYCNgPx80xPbb9qa30e6B_LklXy6natQK-d7DQ=s64",
      "userId": "01349434945202057094"
     },
     "user_tz": -300
    },
    "id": "REWREmE760t7",
    "outputId": "b07bbaa5-3925-44cc-823e-b71a5fe98d20"
   },
   "outputs": [
    {
     "data": {
      "text/plain": [
       "array([ 63,   7,   4, 114])"
      ]
     },
     "execution_count": 13,
     "metadata": {
      "tags": []
     },
     "output_type": "execute_result"
    }
   ],
   "source": [
    "from sklearn.metrics import precision_score, recall_score, f1_score\n",
    "answer1=confusion_matrix(df.target,df.prediction).ravel()\n",
    "answer1"
   ]
  },
  {
   "cell_type": "code",
   "execution_count": 111,
   "metadata": {
    "colab": {
     "base_uri": "https://localhost:8080/",
     "height": 70
    },
    "colab_type": "code",
    "executionInfo": {
     "elapsed": 481,
     "status": "ok",
     "timestamp": 1588923404063,
     "user": {
      "displayName": "Rafael Biktimirov",
      "photoUrl": "https://lh3.googleusercontent.com/a-/AOh14Gj4VYCNgPx80xPbb9qa30e6B_LklXy6natQK-d7DQ=s64",
      "userId": "01349434945202057094"
     },
     "user_tz": -300
    },
    "id": "H871GGo-7oT5",
    "outputId": "7149df83-62fe-41b3-8dcb-a88839ad187b"
   },
   "outputs": [
    {
     "name": "stdout",
     "output_type": "stream",
     "text": [
      "recall_score: 0.94\n",
      "recall_score: 0.97\n",
      "f1_score: 0.95\n"
     ]
    }
   ],
   "source": [
    "answer2=[precision_score(df.target,df.prediction),recall_score(df.target,df.prediction),f1_score(df.target,df.prediction)]\n",
    "print('recall_score: {:.2f}'.format(precision_score(df.target,df.prediction)))\n",
    "print('recall_score: {:.2f}'.format(recall_score(df.target,df.prediction)))\n",
    "print('f1_score: {:.2f}'.format(f1_score(df.target,df.prediction)))"
   ]
  },
  {
   "cell_type": "markdown",
   "metadata": {
    "colab_type": "text",
    "id": "Ouw1QKMI60t_"
   },
   "source": [
    "В столбцах `scores_1` и `scores_2` содержаться оценки вероятности пренадлежности объектов к классу 1 для двух разных алгоритмов машинного обучения. Рассчитайте площадь под ROC-кривой для каждого алгоритма и сравните их. В качестве ответа `answer3` приведите большее из двух значений, округленное до трех знаков после запятой."
   ]
  },
  {
   "cell_type": "markdown",
   "metadata": {
    "colab_type": "text",
    "id": "oioxGk2x60t_"
   },
   "source": [
    "### *РЕШЕНИЕ*"
   ]
  },
  {
   "cell_type": "code",
   "execution_count": 0,
   "metadata": {
    "colab": {},
    "colab_type": "code",
    "id": "SEEuFzl-60uA"
   },
   "outputs": [],
   "source": [
    "from sklearn.metrics import roc_auc_score\n",
    "answer3=roc_auc_score(df.target,df.scores_1)"
   ]
  },
  {
   "cell_type": "code",
   "execution_count": 15,
   "metadata": {
    "colab": {
     "base_uri": "https://localhost:8080/",
     "height": 35
    },
    "colab_type": "code",
    "executionInfo": {
     "elapsed": 710,
     "status": "ok",
     "timestamp": 1588918981371,
     "user": {
      "displayName": "Rafael Biktimirov",
      "photoUrl": "https://lh3.googleusercontent.com/a-/AOh14Gj4VYCNgPx80xPbb9qa30e6B_LklXy6natQK-d7DQ=s64",
      "userId": "01349434945202057094"
     },
     "user_tz": -300
    },
    "id": "52ma9hfO82xL",
    "outputId": "7e30e23b-4650-40a1-fbee-b572d399ca75"
   },
   "outputs": [
    {
     "data": {
      "text/plain": [
       "0.9854116222760291"
      ]
     },
     "execution_count": 15,
     "metadata": {
      "tags": []
     },
     "output_type": "execute_result"
    }
   ],
   "source": [
    "roc_auc_score(df.target,df.scores_2)"
   ]
  },
  {
   "cell_type": "markdown",
   "metadata": {
    "colab_type": "text",
    "id": "vHh7_LJ860uE"
   },
   "source": [
    "## Метод скользящего контроля"
   ]
  },
  {
   "cell_type": "markdown",
   "metadata": {
    "colab_type": "text",
    "id": "pWaKuGph60uG"
   },
   "source": [
    "Во второй части данного практического задания мы изучать различные методы оценки моделей машинного обучения. Загрузите набор данных `Breast Cancer Wisconsin (Diagnostic)`, используя функцию `load_breast_cancer` из модуля `sklearn.datasets`. Этот датасет позволяет решать задачу предсказания рака груди по различным характеристикам опухоли. В данном случае, целевая переменная принимает два значения, соответствующие доброкачественной и злокачественной опухоли. Проверьте, является ли данная выборка сбалансированной."
   ]
  },
  {
   "cell_type": "code",
   "execution_count": 0,
   "metadata": {
    "colab": {},
    "colab_type": "code",
    "id": "Khk1DzLe60uH"
   },
   "outputs": [],
   "source": [
    "from sklearn.datasets import load_breast_cancer\n",
    "\n",
    "X, y = load_breast_cancer(return_X_y=True)\n"
   ]
  },
  {
   "cell_type": "markdown",
   "metadata": {
    "colab_type": "text",
    "id": "Qpc8jZHe60uK"
   },
   "source": [
    "Первый метод, который мы будем использовать, - это случайное разбиение датасета на тренировочную и тестовую выборку с помощью функции `train_test_split` из `sklearn.model_selection` с параметрами `random_state=3` и `test_size=0.33`. Если выборка является несбалансированной передайте целевую переменную в эту функцию в качестве аргумента `stratify`.\n",
    "\n",
    "Обучите логистическую регрессию (класс `LogisticRegression` из модуля `sklearn.linear_model`) с параметром конструктора `random_state=42` и метод K ближайших соседей (класс `KNeighborsClassifier` из модуля `sklearn.neighbors`) на тренировочной выборке. Оцените качество на тестовой выборке для каждой из моделей. В качестве метрики качества используйте `recall`. Какая из моделей показывает лучший результат? Ответом на это задание `answer4` является этот результат, округленный до трех знаков после запятой."
   ]
  },
  {
   "cell_type": "markdown",
   "metadata": {
    "colab_type": "text",
    "id": "QiaroYSI60uL"
   },
   "source": [
    "### *РЕШЕНИЕ*"
   ]
  },
  {
   "cell_type": "code",
   "execution_count": 77,
   "metadata": {
    "colab": {
     "base_uri": "https://localhost:8080/",
     "height": 195
    },
    "colab_type": "code",
    "executionInfo": {
     "elapsed": 705,
     "status": "ok",
     "timestamp": 1588921039134,
     "user": {
      "displayName": "Rafael Biktimirov",
      "photoUrl": "https://lh3.googleusercontent.com/a-/AOh14Gj4VYCNgPx80xPbb9qa30e6B_LklXy6natQK-d7DQ=s64",
      "userId": "01349434945202057094"
     },
     "user_tz": -300
    },
    "id": "YSivGZb260uL",
    "outputId": "e69bb475-c213-4000-a4a6-2476121e560b"
   },
   "outputs": [
    {
     "name": "stdout",
     "output_type": "stream",
     "text": [
      "0.9661016949152542\n",
      "0.9745762711864406\n"
     ]
    },
    {
     "name": "stderr",
     "output_type": "stream",
     "text": [
      "/usr/local/lib/python3.6/dist-packages/sklearn/linear_model/_logistic.py:940: ConvergenceWarning: lbfgs failed to converge (status=1):\n",
      "STOP: TOTAL NO. of ITERATIONS REACHED LIMIT.\n",
      "\n",
      "Increase the number of iterations (max_iter) or scale the data as shown in:\n",
      "    https://scikit-learn.org/stable/modules/preprocessing.html\n",
      "Please also refer to the documentation for alternative solver options:\n",
      "    https://scikit-learn.org/stable/modules/linear_model.html#logistic-regression\n",
      "  extra_warning_msg=_LOGISTIC_SOLVER_CONVERGENCE_MSG)\n"
     ]
    }
   ],
   "source": [
    "from sklearn.model_selection import train_test_split\n",
    "from sklearn.metrics import recall_score\n",
    "from sklearn.neighbors import KNeighborsClassifier\n",
    "from sklearn.linear_model import LogisticRegression\n",
    "\n",
    "\n",
    "X_train, X_test, y_train, y_test=train_test_split(X,y,random_state=3,test_size=0.33,stratify=y)\n",
    "LogisticRegression=LogisticRegression()\n",
    "model=LogisticRegression.fit(X_train, y_train)\n",
    "pred1=model.predict(X_test)\n",
    "print(recall_score(y_test,pred1))\n",
    "\n",
    "knn = KNeighborsClassifier(n_neighbors=x)\n",
    "knn.fit(X_train, y_train)\n",
    "pred=knn.predict(X_test)\n",
    "print(recall_score(y_test,pred))\n",
    "answer4=recall_score(y_test,pred)"
   ]
  },
  {
   "cell_type": "code",
   "execution_count": 61,
   "metadata": {
    "colab": {
     "base_uri": "https://localhost:8080/",
     "height": 35
    },
    "colab_type": "code",
    "executionInfo": {
     "elapsed": 658,
     "status": "ok",
     "timestamp": 1588920342177,
     "user": {
      "displayName": "Rafael Biktimirov",
      "photoUrl": "https://lh3.googleusercontent.com/a-/AOh14Gj4VYCNgPx80xPbb9qa30e6B_LklXy6natQK-d7DQ=s64",
      "userId": "01349434945202057094"
     },
     "user_tz": -300
    },
    "id": "ZSeVHKLdB7BD",
    "outputId": "e5b1942f-6ba3-4a5c-ae68-50f60ff7fc76"
   },
   "outputs": [
    {
     "data": {
      "text/plain": [
       "0.9745762711864406"
      ]
     },
     "execution_count": 61,
     "metadata": {
      "tags": []
     },
     "output_type": "execute_result"
    }
   ],
   "source": []
  },
  {
   "cell_type": "markdown",
   "metadata": {
    "colab_type": "text",
    "id": "ama5Dg_o60uP"
   },
   "source": [
    "Далее мы проведем оценку каждой из этих моделей в соответствии с методом скользящего контроля с помощью функции `cross_val_score` из модуля `sklearn.model_selection`. В качестве параметра кросс-валидации `cv` в этой функции используйте экземпляр класса `StratifiedKFold` из `sklearn.model_selection` с тремя разбиениями. \n",
    "\n",
    "Функция `cross_val_score` возвращает количество оценок, соответствующие числу разбиений.\n",
    "В качестве итогового результата используете среднее значение полученных оценок с помощью метрики `recall`. Какая модель работает лучше в это случае? Какие выводы можно из этого сделать? Ответом на это задание `answer5` является лучший итоговый результат, округленный до трех знаков после запятой."
   ]
  },
  {
   "cell_type": "markdown",
   "metadata": {
    "colab_type": "text",
    "id": "Xk3T273m60uP"
   },
   "source": [
    "### *РЕШЕНИЕ*"
   ]
  },
  {
   "cell_type": "code",
   "execution_count": 104,
   "metadata": {
    "colab": {
     "base_uri": "https://localhost:8080/",
     "height": 479
    },
    "colab_type": "code",
    "executionInfo": {
     "elapsed": 713,
     "status": "ok",
     "timestamp": 1588923023549,
     "user": {
      "displayName": "Rafael Biktimirov",
      "photoUrl": "https://lh3.googleusercontent.com/a-/AOh14Gj4VYCNgPx80xPbb9qa30e6B_LklXy6natQK-d7DQ=s64",
      "userId": "01349434945202057094"
     },
     "user_tz": -300
    },
    "id": "ZHiQvpBO60uQ",
    "outputId": "2d6b27dc-599c-4684-99e6-e61c3ae1b35a"
   },
   "outputs": [
    {
     "name": "stdout",
     "output_type": "stream",
     "text": [
      "Cross val score: [0.98734177 0.9        1.        ]\n",
      "Mean cross val score: 0.962\n"
     ]
    },
    {
     "name": "stderr",
     "output_type": "stream",
     "text": [
      "/usr/local/lib/python3.6/dist-packages/sklearn/linear_model/_logistic.py:940: ConvergenceWarning: lbfgs failed to converge (status=1):\n",
      "STOP: TOTAL NO. of ITERATIONS REACHED LIMIT.\n",
      "\n",
      "Increase the number of iterations (max_iter) or scale the data as shown in:\n",
      "    https://scikit-learn.org/stable/modules/preprocessing.html\n",
      "Please also refer to the documentation for alternative solver options:\n",
      "    https://scikit-learn.org/stable/modules/linear_model.html#logistic-regression\n",
      "  extra_warning_msg=_LOGISTIC_SOLVER_CONVERGENCE_MSG)\n",
      "/usr/local/lib/python3.6/dist-packages/sklearn/linear_model/_logistic.py:940: ConvergenceWarning: lbfgs failed to converge (status=1):\n",
      "STOP: TOTAL NO. of ITERATIONS REACHED LIMIT.\n",
      "\n",
      "Increase the number of iterations (max_iter) or scale the data as shown in:\n",
      "    https://scikit-learn.org/stable/modules/preprocessing.html\n",
      "Please also refer to the documentation for alternative solver options:\n",
      "    https://scikit-learn.org/stable/modules/linear_model.html#logistic-regression\n",
      "  extra_warning_msg=_LOGISTIC_SOLVER_CONVERGENCE_MSG)\n",
      "/usr/local/lib/python3.6/dist-packages/sklearn/linear_model/_logistic.py:940: ConvergenceWarning: lbfgs failed to converge (status=1):\n",
      "STOP: TOTAL NO. of ITERATIONS REACHED LIMIT.\n",
      "\n",
      "Increase the number of iterations (max_iter) or scale the data as shown in:\n",
      "    https://scikit-learn.org/stable/modules/preprocessing.html\n",
      "Please also refer to the documentation for alternative solver options:\n",
      "    https://scikit-learn.org/stable/modules/linear_model.html#logistic-regression\n",
      "  extra_warning_msg=_LOGISTIC_SOLVER_CONVERGENCE_MSG)\n"
     ]
    }
   ],
   "source": [
    "from sklearn.model_selection import cross_val_score, StratifiedKFold\n",
    "\n",
    "cv=StratifiedKFold(n_splits=3)\n",
    "cv_score = cross_val_score(\n",
    "    LogisticRegression, X_train, y_train,\n",
    "    scoring='recall', cv=cv\n",
    ")\n",
    "\n",
    "print('Cross val score: {}'.format(cv_score))\n",
    "print('Mean cross val score: {:.3f}'.format(cv_score.mean()))"
   ]
  },
  {
   "cell_type": "code",
   "execution_count": 107,
   "metadata": {
    "colab": {
     "base_uri": "https://localhost:8080/",
     "height": 52
    },
    "colab_type": "code",
    "executionInfo": {
     "elapsed": 790,
     "status": "ok",
     "timestamp": 1588923277535,
     "user": {
      "displayName": "Rafael Biktimirov",
      "photoUrl": "https://lh3.googleusercontent.com/a-/AOh14Gj4VYCNgPx80xPbb9qa30e6B_LklXy6natQK-d7DQ=s64",
      "userId": "01349434945202057094"
     },
     "user_tz": -300
    },
    "id": "fgallbFjK_6j",
    "outputId": "9a65440b-5c3a-4751-b8a8-8806afc060f6"
   },
   "outputs": [
    {
     "name": "stdout",
     "output_type": "stream",
     "text": [
      "Cross val score: [0.97468354 0.9625     0.9625    ]\n",
      "Mean cross val score: 0.967\n"
     ]
    }
   ],
   "source": [
    "knn = KNeighborsClassifier()\n",
    "knn.fit(X_train, y_train)\n",
    "cv_score1 = cross_val_score(\n",
    "    knn, X_train, y_train,\n",
    "    scoring='recall', cv=cv\n",
    ")\n",
    "\n",
    "print('Cross val score: {}'.format(cv_score1))\n",
    "print('Mean cross val score: {:.3f}'.format(cv_score1.mean()))\n",
    "answer5=cv_score1.mean()"
   ]
  },
  {
   "cell_type": "markdown",
   "metadata": {
    "colab_type": "text",
    "id": "wTOOwaal60uT"
   },
   "source": [
    "# Строка с ответами"
   ]
  },
  {
   "cell_type": "code",
   "execution_count": 108,
   "metadata": {
    "colab": {
     "base_uri": "https://localhost:8080/",
     "height": 106
    },
    "colab_type": "code",
    "executionInfo": {
     "elapsed": 684,
     "status": "ok",
     "timestamp": 1588923282526,
     "user": {
      "displayName": "Rafael Biktimirov",
      "photoUrl": "https://lh3.googleusercontent.com/a-/AOh14Gj4VYCNgPx80xPbb9qa30e6B_LklXy6natQK-d7DQ=s64",
      "userId": "01349434945202057094"
     },
     "user_tz": -300
    },
    "id": "GNFe6hxm60uV",
    "outputId": "a25b6d57-34d5-4a27-dd28-5c50084f324d"
   },
   "outputs": [
    {
     "name": "stdout",
     "output_type": "stream",
     "text": [
      "TN,FN,TP,FP = [ 63   7   4 114]\n",
      "Precision,Recall,F1 Score = [0.9421487603305785, 0.9661016949152542, 0.9539748953974895]\n",
      "Best ROC AUC Score 0.993\n",
      "Random Split 0.975\n",
      "Cross Val Score 0.967\n"
     ]
    }
   ],
   "source": [
    "output = \"\"\"TN,FN,TP,FP = {0}\n",
    "Precision,Recall,F1 Score = {1}\n",
    "Best ROC AUC Score {2:.3f}\n",
    "Random Split {3:.3f}\n",
    "Cross Val Score {4:.3f}\"\"\"\n",
    "print(output.format(answer1, answer2, answer3, answer4, answer5))"
   ]
  }
 ],
 "metadata": {
  "colab": {
   "collapsed_sections": [],
   "name": "Metrics_test",
   "provenance": []
  },
  "kernelspec": {
   "display_name": "Python 3",
   "language": "python",
   "name": "python3"
  },
  "language_info": {
   "codemirror_mode": {
    "name": "ipython",
    "version": 3
   },
   "file_extension": ".py",
   "mimetype": "text/x-python",
   "name": "python",
   "nbconvert_exporter": "python",
   "pygments_lexer": "ipython3",
   "version": "3.7.6"
  }
 },
 "nbformat": 4,
 "nbformat_minor": 1
}
