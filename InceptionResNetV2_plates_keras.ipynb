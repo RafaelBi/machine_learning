{
  "nbformat": 4,
  "nbformat_minor": 0,
  "metadata": {
    "colab": {
      "name": "InceptionResNetV2_plates_keras.ipynb",
      "provenance": [],
      "private_outputs": true,
      "collapsed_sections": [],
      "mount_file_id": "1oalQpeCjMXxEtBId9suG1WBLFJdm5ytP",
      "authorship_tag": "ABX9TyNTDQKXVVkRLR+TQKqoSdt6",
      "include_colab_link": true
    },
    "kernelspec": {
      "name": "python3",
      "display_name": "Python 3"
    },
    "accelerator": "GPU"
  },
  "cells": [
    {
      "cell_type": "markdown",
      "metadata": {
        "id": "view-in-github",
        "colab_type": "text"
      },
      "source": [
        "<a href=\"https://colab.research.google.com/github/RafaelBi/machine_learning/blob/Playground/InceptionResNetV2_plates_keras.ipynb\" target=\"_parent\"><img src=\"https://colab.research.google.com/assets/colab-badge.svg\" alt=\"Open In Colab\"/></a>"
      ]
    },
    {
      "cell_type": "markdown",
      "metadata": {
        "id": "Ex_nM2vnnrwY",
        "colab_type": "text"
      },
      "source": [
        "Pretrained ResNetv2, \n",
        "40 pics on train, \n",
        "Kaggle cleaned vs dirty v2 score 0.895, https://www.kaggle.com/c/platesv2\n"
      ]
    },
    {
      "cell_type": "code",
      "metadata": {
        "id": "THaMsjKaf9K7",
        "colab_type": "code",
        "colab": {}
      },
      "source": [
        "import os\n",
        "import pandas as pd\n",
        "import numpy as np\n",
        "import tensorflow as tf\n",
        "from keras.models import Sequential, Model\n",
        "from keras.layers import Dense, Conv2D, Flatten, Activation, Dropout\n",
        "from keras.preprocessing.image import ImageDataGenerator\n",
        "from keras import applications, optimizers\n",
        "print(os.listdir(\"drive/My Drive/Plates\"))\n",
        "\n"
      ],
      "execution_count": 0,
      "outputs": []
    },
    {
      "cell_type": "code",
      "metadata": {
        "id": "go-6Btdymr_S",
        "colab_type": "code",
        "colab": {}
      },
      "source": [
        "device_name = tf.test.gpu_device_name()\n",
        "if device_name != '/device:GPU:0':\n",
        "  print(\n",
        "      '\\n\\nThis error most likely means that this notebook is not '\n",
        "      'configured to use a GPU.  Change this in Notebook Settings via the '\n",
        "      'command palette (cmd/ctrl-shift-P) or the Edit menu.\\n\\n')\n",
        "  raise SystemError('GPU device not found')"
      ],
      "execution_count": 0,
      "outputs": []
    },
    {
      "cell_type": "code",
      "metadata": {
        "id": "ZEYGh9CPK9gQ",
        "colab_type": "code",
        "colab": {}
      },
      "source": [
        "img_size = 224\n",
        "batch_size = 20"
      ],
      "execution_count": 0,
      "outputs": []
    },
    {
      "cell_type": "code",
      "metadata": {
        "id": "QDgd-a3NgXGA",
        "colab_type": "code",
        "colab": {}
      },
      "source": [
        "%%time\n",
        "with tf.device('/device:GPU:0'):\n",
        "  train_datagen=ImageDataGenerator(\n",
        "      rescale=1.0/255.0,       \n",
        "      rotation_range=40,\n",
        "      width_shift_range=0.2,\n",
        "      height_shift_range=0.2,\n",
        "      shear_range=0.2,\n",
        "      zoom_range=0.2,\n",
        "      horizontal_flip=True,\n",
        "      vertical_flip = True\n",
        "      )\n",
        "\n",
        "  train_generator = train_datagen.flow_from_directory(\n",
        "          'drive/My Drive/Plates/train',\n",
        "          target_size=(img_size, img_size),\n",
        "          batch_size=batch_size,\n",
        "          class_mode='binary')\n",
        "\n",
        "  test_datagen = ImageDataGenerator(rescale=1.0/255.0)\n",
        "  test_generator = test_datagen.flow_from_directory(  \n",
        "          'drive/My Drive/Plates',\n",
        "          classes=['test'],\n",
        "          target_size = (img_size, img_size),\n",
        "          batch_size = 1,\n",
        "          shuffle = False,        \n",
        "          class_mode = None)\n"
      ],
      "execution_count": 0,
      "outputs": []
    },
    {
      "cell_type": "code",
      "metadata": {
        "id": "fQFLXnB6L1rs",
        "colab_type": "code",
        "colab": {}
      },
      "source": [
        "with tf.device('/device:GPU:0'):\n",
        "  base_model = applications.InceptionResNetV2(weights='imagenet', \n",
        "                          include_top=False, \n",
        "                          input_shape=(img_size, img_size, 3))"
      ],
      "execution_count": 0,
      "outputs": []
    },
    {
      "cell_type": "code",
      "metadata": {
        "id": "Uec0fvgsMDdu",
        "colab_type": "code",
        "colab": {}
      },
      "source": [
        "base_model.trainable = False"
      ],
      "execution_count": 0,
      "outputs": []
    },
    {
      "cell_type": "code",
      "metadata": {
        "id": "XfpyNtXPkTU-",
        "colab_type": "code",
        "colab": {}
      },
      "source": [
        "base_model.summary()"
      ],
      "execution_count": 0,
      "outputs": []
    },
    {
      "cell_type": "code",
      "metadata": {
        "id": "MeT9SbFCRbMS",
        "colab_type": "code",
        "colab": {}
      },
      "source": [
        "with tf.device('/device:GPU:0'):\n",
        "  add_model = Sequential()\n",
        "  add_model.add(Flatten(input_shape=base_model.output_shape[1:]))\n",
        "  add_model.add(Dense(1024, activation='relu'))\n",
        "  add_model.add(Dropout(0.5))\n",
        "  add_model.add(Dense(1, activation='sigmoid'))\n",
        "\n",
        "  model = Model(inputs=base_model.input, outputs=add_model(base_model.output))\n",
        "  model.compile(loss='binary_crossentropy', optimizer = optimizers.rmsprop(lr=0.0001, decay=1e-6), metrics=['accuracy'])\n",
        "\n",
        "model.summary()\n",
        "output.eval_js('new Audio(\"https://upload.wikimedia.org/wikipedia/commons/0/05/Beep-09.ogg\").play()')"
      ],
      "execution_count": 0,
      "outputs": []
    },
    {
      "cell_type": "code",
      "metadata": {
        "id": "E2oKnuxLxjme",
        "colab_type": "code",
        "colab": {}
      },
      "source": [
        "#another way to add layer\n",
        "with tf.device('/device:GPU:0'):\n",
        "  x = base_model.output\n",
        "  x = Flatten()(x)\n",
        "  x = Dense(1024, activation=\"relu\")(x)\n",
        "  x = Dropout(0.5)(x)\n",
        "  predictions = Dense(1, activation=\"sigmoid\")(x)\n",
        "  model = Model(input = base_model.input, output = predictions)\n",
        "\n",
        "model.summary()"
      ],
      "execution_count": 0,
      "outputs": []
    },
    {
      "cell_type": "code",
      "metadata": {
        "id": "KYNiIqUNjcQ6",
        "colab_type": "code",
        "colab": {}
      },
      "source": [
        "%%time\n",
        "with tf.device('/device:GPU:0'):\n",
        "  history=[]\n",
        "  model.compile(loss='binary_crossentropy', optimizer = optimizers.rmsprop(lr=0.0001, decay=1e-6), metrics=['accuracy'])\n",
        "  history=model.fit_generator(\n",
        "      train_generator,\n",
        "      steps_per_epoch=200,\n",
        "      epochs=20,\n",
        "      verbose=0)\n",
        "  #500 steps, 25 epoch original\n",
        "\n",
        "output.eval_js('new Audio(\"https://upload.wikimedia.org/wikipedia/commons/0/05/Beep-09.ogg\").play()')"
      ],
      "execution_count": 0,
      "outputs": []
    },
    {
      "cell_type": "code",
      "metadata": {
        "id": "g5Q19XdHJNyO",
        "colab_type": "code",
        "colab": {}
      },
      "source": [
        "import matplotlib.pyplot as plt\n",
        "plt.plot(history.history['accuracy'], label='accuracy')\n",
        "#plt.plot(history.history['loss'], label='loss')\n",
        "plt.legend()\n",
        "plt.xlabel('Epoch')\n",
        "plt.ylabel('Accuracy')"
      ],
      "execution_count": 0,
      "outputs": []
    },
    {
      "cell_type": "code",
      "metadata": {
        "id": "TKPZ0eDINLcV",
        "colab_type": "code",
        "colab": {}
      },
      "source": [
        "plt.plot(history.history['loss'], label='loss')\n",
        "plt.xlabel('Epoch')\n",
        "plt.ylabel('loss-value')"
      ],
      "execution_count": 0,
      "outputs": []
    },
    {
      "cell_type": "code",
      "metadata": {
        "id": "nVyXKxaCrMmz",
        "colab_type": "code",
        "colab": {}
      },
      "source": [
        "%time\n",
        "with tf.device('/device:GPU:0'):\n",
        "  test_generator.reset()\n",
        "  predict = model.predict_generator(test_generator, steps = len(test_generator.filenames))\n",
        "  len(predict)\n",
        "output.eval_js('new Audio(\"https://upload.wikimedia.org/wikipedia/commons/0/05/Beep-09.ogg\").play()')"
      ],
      "execution_count": 0,
      "outputs": []
    },
    {
      "cell_type": "code",
      "metadata": {
        "id": "16Pf8J7crdvO",
        "colab_type": "code",
        "colab": {}
      },
      "source": [
        "sub_df = pd.read_csv('drive/My Drive/Plates/sample_submission.csv')\n",
        "sub_df.head()"
      ],
      "execution_count": 0,
      "outputs": []
    },
    {
      "cell_type": "code",
      "metadata": {
        "id": "Ee7QMNpZretV",
        "colab_type": "code",
        "colab": {}
      },
      "source": [
        "sub_df['label'] = predict\n",
        "sub_df['label'] = sub_df['label'].apply(lambda x: 'dirty' if x > 0.5 else 'cleaned')\n",
        "sub_df.head()"
      ],
      "execution_count": 0,
      "outputs": []
    },
    {
      "cell_type": "code",
      "metadata": {
        "id": "mbR1kwn2rhZN",
        "colab_type": "code",
        "colab": {}
      },
      "source": [
        "sub_df['label'].value_counts()"
      ],
      "execution_count": 0,
      "outputs": []
    },
    {
      "cell_type": "code",
      "metadata": {
        "id": "bsZXEG4brna5",
        "colab_type": "code",
        "colab": {}
      },
      "source": [
        "sub_df.to_csv('Res_net_200steps_20epochs.csv', index=False)"
      ],
      "execution_count": 0,
      "outputs": []
    },
    {
      "cell_type": "markdown",
      "metadata": {
        "id": "TOYfbuiJnn7k",
        "colab_type": "text"
      },
      "source": [
        ""
      ]
    }
  ]
}