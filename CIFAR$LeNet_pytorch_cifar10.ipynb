{
  "nbformat": 4,
  "nbformat_minor": 0,
  "metadata": {
    "colab": {
      "name": "CIFAR$LeNet_pytorch_cifar10",
      "provenance": [],
      "authorship_tag": "ABX9TyNr+iZfKsDPvhcr6+ZuNxBF",
      "include_colab_link": true
    },
    "kernelspec": {
      "name": "python3",
      "display_name": "Python 3"
    },
    "widgets": {
      "application/vnd.jupyter.widget-state+json": {
        "275af4e86fae4804bf1cf609c9dd40f5": {
          "model_module": "@jupyter-widgets/controls",
          "model_name": "HBoxModel",
          "state": {
            "_view_name": "HBoxView",
            "_dom_classes": [],
            "_model_name": "HBoxModel",
            "_view_module": "@jupyter-widgets/controls",
            "_model_module_version": "1.5.0",
            "_view_count": null,
            "_view_module_version": "1.5.0",
            "box_style": "",
            "layout": "IPY_MODEL_2bc31cd3f65c4196a94846c63f2defbd",
            "_model_module": "@jupyter-widgets/controls",
            "children": [
              "IPY_MODEL_c4b8c0d377634e6784b89c659ea183f3",
              "IPY_MODEL_ebcff6d2dcce454eb2b9e1d0073c69e7"
            ]
          }
        },
        "2bc31cd3f65c4196a94846c63f2defbd": {
          "model_module": "@jupyter-widgets/base",
          "model_name": "LayoutModel",
          "state": {
            "_view_name": "LayoutView",
            "grid_template_rows": null,
            "right": null,
            "justify_content": null,
            "_view_module": "@jupyter-widgets/base",
            "overflow": null,
            "_model_module_version": "1.2.0",
            "_view_count": null,
            "flex_flow": null,
            "width": null,
            "min_width": null,
            "border": null,
            "align_items": null,
            "bottom": null,
            "_model_module": "@jupyter-widgets/base",
            "top": null,
            "grid_column": null,
            "overflow_y": null,
            "overflow_x": null,
            "grid_auto_flow": null,
            "grid_area": null,
            "grid_template_columns": null,
            "flex": null,
            "_model_name": "LayoutModel",
            "justify_items": null,
            "grid_row": null,
            "max_height": null,
            "align_content": null,
            "visibility": null,
            "align_self": null,
            "height": null,
            "min_height": null,
            "padding": null,
            "grid_auto_rows": null,
            "grid_gap": null,
            "max_width": null,
            "order": null,
            "_view_module_version": "1.2.0",
            "grid_template_areas": null,
            "object_position": null,
            "object_fit": null,
            "grid_auto_columns": null,
            "margin": null,
            "display": null,
            "left": null
          }
        },
        "c4b8c0d377634e6784b89c659ea183f3": {
          "model_module": "@jupyter-widgets/controls",
          "model_name": "FloatProgressModel",
          "state": {
            "_view_name": "ProgressView",
            "style": "IPY_MODEL_5bed7240659d4c14ac7a7a6b890de3a4",
            "_dom_classes": [],
            "description": "",
            "_model_name": "FloatProgressModel",
            "bar_style": "info",
            "max": 1,
            "_view_module": "@jupyter-widgets/controls",
            "_model_module_version": "1.5.0",
            "value": 1,
            "_view_count": null,
            "_view_module_version": "1.5.0",
            "orientation": "horizontal",
            "min": 0,
            "description_tooltip": null,
            "_model_module": "@jupyter-widgets/controls",
            "layout": "IPY_MODEL_d6ecb00412af43e6b00fb76f6ab77879"
          }
        },
        "ebcff6d2dcce454eb2b9e1d0073c69e7": {
          "model_module": "@jupyter-widgets/controls",
          "model_name": "HTMLModel",
          "state": {
            "_view_name": "HTMLView",
            "style": "IPY_MODEL_fed9e9f71dab4c97bd185cfac2da9cdd",
            "_dom_classes": [],
            "description": "",
            "_model_name": "HTMLModel",
            "placeholder": "​",
            "_view_module": "@jupyter-widgets/controls",
            "_model_module_version": "1.5.0",
            "value": " 170500096/? [00:30&lt;00:00, 16141318.72it/s]",
            "_view_count": null,
            "_view_module_version": "1.5.0",
            "description_tooltip": null,
            "_model_module": "@jupyter-widgets/controls",
            "layout": "IPY_MODEL_9fa0ce89b0224304b39c95482f791ac3"
          }
        },
        "5bed7240659d4c14ac7a7a6b890de3a4": {
          "model_module": "@jupyter-widgets/controls",
          "model_name": "ProgressStyleModel",
          "state": {
            "_view_name": "StyleView",
            "_model_name": "ProgressStyleModel",
            "description_width": "initial",
            "_view_module": "@jupyter-widgets/base",
            "_model_module_version": "1.5.0",
            "_view_count": null,
            "_view_module_version": "1.2.0",
            "bar_color": null,
            "_model_module": "@jupyter-widgets/controls"
          }
        },
        "d6ecb00412af43e6b00fb76f6ab77879": {
          "model_module": "@jupyter-widgets/base",
          "model_name": "LayoutModel",
          "state": {
            "_view_name": "LayoutView",
            "grid_template_rows": null,
            "right": null,
            "justify_content": null,
            "_view_module": "@jupyter-widgets/base",
            "overflow": null,
            "_model_module_version": "1.2.0",
            "_view_count": null,
            "flex_flow": null,
            "width": null,
            "min_width": null,
            "border": null,
            "align_items": null,
            "bottom": null,
            "_model_module": "@jupyter-widgets/base",
            "top": null,
            "grid_column": null,
            "overflow_y": null,
            "overflow_x": null,
            "grid_auto_flow": null,
            "grid_area": null,
            "grid_template_columns": null,
            "flex": null,
            "_model_name": "LayoutModel",
            "justify_items": null,
            "grid_row": null,
            "max_height": null,
            "align_content": null,
            "visibility": null,
            "align_self": null,
            "height": null,
            "min_height": null,
            "padding": null,
            "grid_auto_rows": null,
            "grid_gap": null,
            "max_width": null,
            "order": null,
            "_view_module_version": "1.2.0",
            "grid_template_areas": null,
            "object_position": null,
            "object_fit": null,
            "grid_auto_columns": null,
            "margin": null,
            "display": null,
            "left": null
          }
        },
        "fed9e9f71dab4c97bd185cfac2da9cdd": {
          "model_module": "@jupyter-widgets/controls",
          "model_name": "DescriptionStyleModel",
          "state": {
            "_view_name": "StyleView",
            "_model_name": "DescriptionStyleModel",
            "description_width": "",
            "_view_module": "@jupyter-widgets/base",
            "_model_module_version": "1.5.0",
            "_view_count": null,
            "_view_module_version": "1.2.0",
            "_model_module": "@jupyter-widgets/controls"
          }
        },
        "9fa0ce89b0224304b39c95482f791ac3": {
          "model_module": "@jupyter-widgets/base",
          "model_name": "LayoutModel",
          "state": {
            "_view_name": "LayoutView",
            "grid_template_rows": null,
            "right": null,
            "justify_content": null,
            "_view_module": "@jupyter-widgets/base",
            "overflow": null,
            "_model_module_version": "1.2.0",
            "_view_count": null,
            "flex_flow": null,
            "width": null,
            "min_width": null,
            "border": null,
            "align_items": null,
            "bottom": null,
            "_model_module": "@jupyter-widgets/base",
            "top": null,
            "grid_column": null,
            "overflow_y": null,
            "overflow_x": null,
            "grid_auto_flow": null,
            "grid_area": null,
            "grid_template_columns": null,
            "flex": null,
            "_model_name": "LayoutModel",
            "justify_items": null,
            "grid_row": null,
            "max_height": null,
            "align_content": null,
            "visibility": null,
            "align_self": null,
            "height": null,
            "min_height": null,
            "padding": null,
            "grid_auto_rows": null,
            "grid_gap": null,
            "max_width": null,
            "order": null,
            "_view_module_version": "1.2.0",
            "grid_template_areas": null,
            "object_position": null,
            "object_fit": null,
            "grid_auto_columns": null,
            "margin": null,
            "display": null,
            "left": null
          }
        }
      }
    }
  },
  "cells": [
    {
      "cell_type": "markdown",
      "metadata": {
        "id": "view-in-github",
        "colab_type": "text"
      },
      "source": [
        "<a href=\"https://colab.research.google.com/github/RafaelBi/machine_learning/blob/Playground/CIFAR%24LeNet_pytorch_cifar10.ipynb\" target=\"_parent\"><img src=\"https://colab.research.google.com/assets/colab-badge.svg\" alt=\"Open In Colab\"/></a>"
      ]
    },
    {
      "cell_type": "code",
      "metadata": {
        "id": "SbHyybXWEgyH",
        "colab_type": "code",
        "colab": {}
      },
      "source": [
        "import torch\n",
        "import random\n",
        "import numpy as np\n",
        "\n",
        "random.seed(0)\n",
        "np.random.seed(0)\n",
        "torch.manual_seed(0)\n",
        "torch.cuda.manual_seed(0)\n",
        "torch.backends.cudnn.deterministic = True"
      ],
      "execution_count": 0,
      "outputs": []
    },
    {
      "cell_type": "code",
      "metadata": {
        "id": "U2-Zc_YFEqC2",
        "colab_type": "code",
        "colab": {}
      },
      "source": [
        "import torchvision.datasets"
      ],
      "execution_count": 0,
      "outputs": []
    },
    {
      "cell_type": "code",
      "metadata": {
        "id": "6kxp172iEsjs",
        "colab_type": "code",
        "outputId": "f31182cc-b384-445b-ea9c-940074d4c2aa",
        "colab": {
          "base_uri": "https://localhost:8080/",
          "height": 102,
          "referenced_widgets": [
            "275af4e86fae4804bf1cf609c9dd40f5",
            "2bc31cd3f65c4196a94846c63f2defbd",
            "c4b8c0d377634e6784b89c659ea183f3",
            "ebcff6d2dcce454eb2b9e1d0073c69e7",
            "5bed7240659d4c14ac7a7a6b890de3a4",
            "d6ecb00412af43e6b00fb76f6ab77879",
            "fed9e9f71dab4c97bd185cfac2da9cdd",
            "9fa0ce89b0224304b39c95482f791ac3"
          ]
        }
      },
      "source": [
        "CIFAR_train = torchvision.datasets.CIFAR10('./', download=True, train=True)\n",
        "CIFAR_test = torchvision.datasets.CIFAR10('./', download=True, train=False)"
      ],
      "execution_count": 0,
      "outputs": [
        {
          "output_type": "stream",
          "text": [
            "Downloading https://www.cs.toronto.edu/~kriz/cifar-10-python.tar.gz to ./cifar-10-python.tar.gz\n"
          ],
          "name": "stdout"
        },
        {
          "output_type": "display_data",
          "data": {
            "application/vnd.jupyter.widget-view+json": {
              "model_id": "275af4e86fae4804bf1cf609c9dd40f5",
              "version_minor": 0,
              "version_major": 2
            },
            "text/plain": [
              "HBox(children=(FloatProgress(value=1.0, bar_style='info', max=1.0), HTML(value='')))"
            ]
          },
          "metadata": {
            "tags": []
          }
        },
        {
          "output_type": "stream",
          "text": [
            "Extracting ./cifar-10-python.tar.gz to ./\n",
            "Files already downloaded and verified\n"
          ],
          "name": "stdout"
        }
      ]
    },
    {
      "cell_type": "code",
      "metadata": {
        "id": "qmhCJBoJEwLC",
        "colab_type": "code",
        "colab": {}
      },
      "source": [
        "X_train = torch.FloatTensor(CIFAR_train.data)\n",
        "y_train = torch.LongTensor(CIFAR_train.targets)\n",
        "X_test = torch.FloatTensor(CIFAR_test.data)\n",
        "y_test = torch.LongTensor(CIFAR_test.targets)"
      ],
      "execution_count": 0,
      "outputs": []
    },
    {
      "cell_type": "code",
      "metadata": {
        "id": "z-_v-8cIE0Eb",
        "colab_type": "code",
        "outputId": "2a376527-95ed-4ea8-a1fd-88723d25a9ce",
        "colab": {
          "base_uri": "https://localhost:8080/",
          "height": 34
        }
      },
      "source": [
        "len(y_train), len(y_test)"
      ],
      "execution_count": 0,
      "outputs": [
        {
          "output_type": "execute_result",
          "data": {
            "text/plain": [
              "(50000, 10000)"
            ]
          },
          "metadata": {
            "tags": []
          },
          "execution_count": 8
        }
      ]
    },
    {
      "cell_type": "code",
      "metadata": {
        "id": "9s55UfbKE2-E",
        "colab_type": "code",
        "outputId": "9cd0e51c-46db-48f9-a3c1-b423455d51cf",
        "colab": {
          "base_uri": "https://localhost:8080/",
          "height": 34
        }
      },
      "source": [
        "X_train.min(), X_train.max()"
      ],
      "execution_count": 0,
      "outputs": [
        {
          "output_type": "execute_result",
          "data": {
            "text/plain": [
              "(tensor(0.), tensor(255.))"
            ]
          },
          "metadata": {
            "tags": []
          },
          "execution_count": 9
        }
      ]
    },
    {
      "cell_type": "code",
      "metadata": {
        "id": "yhuhWDC8E7I4",
        "colab_type": "code",
        "colab": {}
      },
      "source": [
        "X_train /= 255.\n",
        "X_test /= 255."
      ],
      "execution_count": 0,
      "outputs": []
    },
    {
      "cell_type": "code",
      "metadata": {
        "id": "5VDgG55aFHJz",
        "colab_type": "code",
        "outputId": "5d1a1139-2053-49b0-951d-044ec5d7e7af",
        "colab": {
          "base_uri": "https://localhost:8080/",
          "height": 193
        }
      },
      "source": [
        "CIFAR_train.classes"
      ],
      "execution_count": 0,
      "outputs": [
        {
          "output_type": "execute_result",
          "data": {
            "text/plain": [
              "['airplane',\n",
              " 'automobile',\n",
              " 'bird',\n",
              " 'cat',\n",
              " 'deer',\n",
              " 'dog',\n",
              " 'frog',\n",
              " 'horse',\n",
              " 'ship',\n",
              " 'truck']"
            ]
          },
          "metadata": {
            "tags": []
          },
          "execution_count": 11
        }
      ]
    },
    {
      "cell_type": "code",
      "metadata": {
        "id": "5orGaoipFLDF",
        "colab_type": "code",
        "outputId": "f63709b3-c470-4db0-a4b6-8ed2bf38205c",
        "colab": {
          "base_uri": "https://localhost:8080/",
          "height": 156
        }
      },
      "source": [
        "import matplotlib.pyplot as plt\n",
        "plt.figure(figsize=(20,2))\n",
        "for i in range(10):\n",
        "    plt.subplot(1, 10, i+1)\n",
        "    plt.imshow(X_train[i])\n",
        "    print(y_train[i], end='       ')\n",
        "plt.tight_layout()    "
      ],
      "execution_count": 0,
      "outputs": [
        {
          "output_type": "stream",
          "text": [
            "tensor(6)       tensor(9)       tensor(9)       tensor(4)       tensor(1)       tensor(1)       tensor(2)       tensor(7)       tensor(8)       tensor(3)       "
          ],
          "name": "stdout"
        },
        {
          "output_type": "display_data",
          "data": {
            "image/png": "[encoded data removed]",
            "text/plain": [
              "<Figure size 1440x144 with 10 Axes>"
            ]
          },
          "metadata": {
            "tags": [],
            "needs_background": "light"
          }
        }
      ]
    },
    {
      "cell_type": "code",
      "metadata": {
        "id": "szW3KbesFQGR",
        "colab_type": "code",
        "outputId": "ccee2946-0c05-448d-f072-68cd6dc7dfdd",
        "colab": {
          "base_uri": "https://localhost:8080/",
          "height": 34
        }
      },
      "source": [
        "X_train.shape, y_train.shape"
      ],
      "execution_count": 0,
      "outputs": [
        {
          "output_type": "execute_result",
          "data": {
            "text/plain": [
              "(torch.Size([50000, 32, 32, 3]), torch.Size([50000]))"
            ]
          },
          "metadata": {
            "tags": []
          },
          "execution_count": 18
        }
      ]
    },
    {
      "cell_type": "code",
      "metadata": {
        "id": "0MaSZwjiFS00",
        "colab_type": "code",
        "colab": {}
      },
      "source": [
        "X_train = X_train.permute(0, 3, 1, 2)\n",
        "X_test = X_test.permute(0, 3, 1, 2)"
      ],
      "execution_count": 0,
      "outputs": []
    },
    {
      "cell_type": "code",
      "metadata": {
        "id": "bRfBMCU3FW73",
        "colab_type": "code",
        "outputId": "9f461af7-03c9-490f-aac1-9da18ef47130",
        "colab": {
          "base_uri": "https://localhost:8080/",
          "height": 34
        }
      },
      "source": [
        "X_train.shape"
      ],
      "execution_count": 0,
      "outputs": [
        {
          "output_type": "execute_result",
          "data": {
            "text/plain": [
              "torch.Size([50000, 3, 32, 32])"
            ]
          },
          "metadata": {
            "tags": []
          },
          "execution_count": 20
        }
      ]
    },
    {
      "cell_type": "code",
      "metadata": {
        "id": "Cy2ZJsx3FdYn",
        "colab_type": "code",
        "colab": {}
      },
      "source": [
        "class LeNet5(torch.nn.Module):\n",
        "    def __init__(self,\n",
        "                 activation='tanh',\n",
        "                 pooling='avg',\n",
        "                 conv_size=5, \n",
        "                 use_batch_norm=False):\n",
        "        super(LeNet5, self).__init__()\n",
        "        \n",
        "        self.conv_size = conv_size\n",
        "        self.use_batch_norm = use_batch_norm\n",
        "        \n",
        "        if activation == 'tanh':\n",
        "            activation_function = torch.nn.Tanh()\n",
        "        elif activation == 'relu':\n",
        "            activation_function  = torch.nn.ReLU()\n",
        "        else:\n",
        "            raise NotImplementedError\n",
        "            \n",
        "        if pooling == 'avg':\n",
        "            pooling_layer = torch.nn.AvgPool2d(kernel_size=2, stride=2)\n",
        "        elif pooling == 'max':\n",
        "            pooling_layer  = torch.nn.MaxPool2d(kernel_size=2, stride=2)\n",
        "        else:\n",
        "            raise NotImplementedError\n",
        "        \n",
        "        if conv_size == 5:\n",
        "            self.conv1 = torch.nn.Conv2d(\n",
        "                in_channels=3, out_channels=6, kernel_size=5, padding=0)\n",
        "        elif conv_size == 3:\n",
        "            self.conv1_1 = torch.nn.Conv2d(\n",
        "                in_channels=3, out_channels=6, kernel_size=3, padding=0)\n",
        "            self.conv1_2 = torch.nn.Conv2d(\n",
        "                in_channels=6, out_channels=6, kernel_size=3, padding=0)\n",
        "        else:\n",
        "            raise NotImplementedError\n",
        "\n",
        "        self.act1 = activation_function\n",
        "        self.bn1 = torch.nn.BatchNorm2d(num_features=6)\n",
        "        self.pool1 = pooling_layer\n",
        "       \n",
        "        if conv_size == 5:\n",
        "            self.conv2 = self.conv2 = torch.nn.Conv2d(\n",
        "                in_channels=6, out_channels=16, kernel_size=5, padding=0)\n",
        "        elif conv_size == 3:\n",
        "            self.conv2_1 = torch.nn.Conv2d(\n",
        "                in_channels=6, out_channels=16, kernel_size=3, padding=0)\n",
        "            self.conv2_2 = torch.nn.Conv2d(\n",
        "                in_channels=16, out_channels=16, kernel_size=3, padding=0)\n",
        "        else:\n",
        "            raise NotImplementedError\n",
        "\n",
        "        self.act2 = activation_function\n",
        "        self.bn2 = torch.nn.BatchNorm2d(num_features=16)\n",
        "        self.pool2 = pooling_layer\n",
        "        \n",
        "        self.fc1 = torch.nn.Linear(5 * 5 * 16, 120)\n",
        "        self.act3 = activation_function\n",
        "    \n",
        "        self.fc2 = torch.nn.Linear(120, 84)\n",
        "        self.act4 = activation_function\n",
        "        \n",
        "        self.fc3 = torch.nn.Linear(84, 10)\n",
        "    \n",
        "    def forward(self, x):\n",
        "        if self.conv_size == 5:\n",
        "            x = self.conv1(x)\n",
        "        elif self.conv_size == 3:\n",
        "            x = self.conv1_2(self.conv1_1(x))\n",
        "        x = self.act1(x)\n",
        "        if self.use_batch_norm:\n",
        "            x = self.bn1(x)\n",
        "        x = self.pool1(x)\n",
        "        \n",
        "        if self.conv_size == 5:\n",
        "            x = self.conv2(x)\n",
        "        elif self.conv_size == 3:\n",
        "            x = self.conv2_2(self.conv2_1(x))\n",
        "        x = self.act2(x)\n",
        "        if self.use_batch_norm:\n",
        "            x = self.bn2(x)\n",
        "        x = self.pool2(x)\n",
        "        \n",
        "        x = x.view(x.size(0), x.size(1) * x.size(2) * x.size(3))\n",
        "        x = self.fc1(x)\n",
        "        x = self.act3(x)\n",
        "        x = self.fc2(x)\n",
        "        x = self.act4(x)\n",
        "        x = self.fc3(x)\n",
        "        \n",
        "        return x"
      ],
      "execution_count": 0,
      "outputs": []
    },
    {
      "cell_type": "code",
      "metadata": {
        "id": "7eXNjdR0FiHp",
        "colab_type": "code",
        "outputId": "cf4bf1f1-d2f6-4d0e-d97f-cafcc3dd44e8",
        "colab": {
          "base_uri": "https://localhost:8080/",
          "height": 1000
        }
      },
      "source": [
        "def train(net, X_train, y_train, X_test, y_test):\n",
        "    device = torch.device('cuda:0' if torch.cuda.is_available() else 'cpu')\n",
        "    net = net.to(device)\n",
        "    loss = torch.nn.CrossEntropyLoss()\n",
        "    optimizer = torch.optim.Adam(net.parameters(), lr=1.0e-3)\n",
        "    \n",
        "    batch_size = 100\n",
        "\n",
        "    test_accuracy_history = []\n",
        "    test_loss_history = []\n",
        "\n",
        "    X_test = X_test.to(device)\n",
        "    y_test = y_test.to(device)\n",
        "\n",
        "    for epoch in range(30):\n",
        "        order = np.random.permutation(len(X_train))\n",
        "        for start_index in range(0, len(X_train), batch_size):\n",
        "            optimizer.zero_grad()\n",
        "            net.train()\n",
        "\n",
        "            batch_indexes = order[start_index:start_index+batch_size]\n",
        "\n",
        "            X_batch = X_train[batch_indexes].to(device)\n",
        "            y_batch = y_train[batch_indexes].to(device)\n",
        "\n",
        "            preds = net.forward(X_batch)\n",
        "\n",
        "            loss_value = loss(preds, y_batch)\n",
        "            loss_value.backward()\n",
        "\n",
        "            optimizer.step()\n",
        "            \n",
        "            X_batch\n",
        "\n",
        "        net.eval()\n",
        "        test_preds = net.forward(X_test)\n",
        "        test_loss_history.append(loss(test_preds, y_test).data.cpu())\n",
        "\n",
        "        accuracy = (test_preds.argmax(dim=1) == y_test).float().mean().data.cpu()\n",
        "        test_accuracy_history.append(accuracy)\n",
        "\n",
        "        print(accuracy)\n",
        "    del net\n",
        "    return test_accuracy_history, test_loss_history\n",
        "\n",
        "accuracies = {}\n",
        "losses = {}\n",
        "\n",
        "accuracies['tanh'], losses['tanh'] = \\\n",
        "    train(LeNet5(activation='tanh', conv_size=5),\n",
        "          X_train, y_train, X_test, y_test)\n",
        "accuracies['relu'], losses['relu'] = \\\n",
        "    train(LeNet5(activation='relu', conv_size=5),\n",
        "          X_train, y_train, X_test, y_test)\n",
        "accuracies['relu_3'], losses['relu_3'] = \\\n",
        "    train(LeNet5(activation='relu', conv_size=3),\n",
        "          X_train, y_train, X_test, y_test)\n",
        "accuracies['relu_3_max_pool'], losses['relu_3_max_pool'] = \\\n",
        "    train(LeNet5(activation='relu', conv_size=3, pooling='max'), \n",
        "          X_train, y_train, X_test, y_test)\n",
        "accuracies['relu_3_max_pool_bn'], losses['relu_3_max_pool_bn'] = \\\n",
        "    train(LeNet5(activation='relu', conv_size=3, pooling='max', use_batch_norm=True), \n",
        "          X_train, y_train, X_test, y_test)"
      ],
      "execution_count": 0,
      "outputs": [
        {
          "output_type": "stream",
          "text": [
            "tensor(0.3876)\n",
            "tensor(0.4334)\n",
            "tensor(0.4709)\n",
            "tensor(0.4962)\n",
            "tensor(0.4969)\n",
            "tensor(0.5182)\n",
            "tensor(0.5263)\n",
            "tensor(0.5363)\n",
            "tensor(0.5425)\n",
            "tensor(0.5401)\n",
            "tensor(0.5461)\n",
            "tensor(0.5455)\n",
            "tensor(0.5432)\n",
            "tensor(0.5542)\n",
            "tensor(0.5564)\n",
            "tensor(0.5588)\n",
            "tensor(0.5550)\n",
            "tensor(0.5537)\n",
            "tensor(0.5534)\n",
            "tensor(0.5523)\n",
            "tensor(0.5545)\n",
            "tensor(0.5500)\n",
            "tensor(0.5449)\n",
            "tensor(0.5490)\n",
            "tensor(0.5471)\n",
            "tensor(0.5472)\n",
            "tensor(0.5427)\n",
            "tensor(0.5429)\n",
            "tensor(0.5394)\n",
            "tensor(0.5422)\n",
            "tensor(0.4254)\n",
            "tensor(0.4810)\n",
            "tensor(0.4864)\n",
            "tensor(0.5183)\n",
            "tensor(0.5334)\n",
            "tensor(0.5437)\n",
            "tensor(0.5603)\n",
            "tensor(0.5620)\n",
            "tensor(0.5763)\n",
            "tensor(0.5752)\n",
            "tensor(0.5918)\n",
            "tensor(0.5826)\n",
            "tensor(0.5949)\n",
            "tensor(0.6052)\n",
            "tensor(0.5977)\n",
            "tensor(0.5963)\n",
            "tensor(0.6020)\n",
            "tensor(0.6042)\n",
            "tensor(0.6023)\n",
            "tensor(0.6080)\n",
            "tensor(0.6106)\n",
            "tensor(0.6138)\n",
            "tensor(0.6233)\n",
            "tensor(0.6230)\n",
            "tensor(0.6159)\n",
            "tensor(0.6245)\n",
            "tensor(0.6220)\n",
            "tensor(0.6212)\n",
            "tensor(0.6120)\n",
            "tensor(0.6241)\n",
            "tensor(0.3638)\n",
            "tensor(0.4522)\n",
            "tensor(0.4956)\n",
            "tensor(0.5088)\n",
            "tensor(0.5200)\n",
            "tensor(0.5432)\n",
            "tensor(0.5481)\n",
            "tensor(0.5589)\n",
            "tensor(0.5643)\n",
            "tensor(0.5808)\n",
            "tensor(0.5845)\n",
            "tensor(0.5982)\n",
            "tensor(0.5979)\n",
            "tensor(0.6036)\n",
            "tensor(0.6099)\n",
            "tensor(0.6068)\n",
            "tensor(0.6068)\n",
            "tensor(0.6156)\n",
            "tensor(0.6163)\n",
            "tensor(0.6095)\n",
            "tensor(0.6219)\n",
            "tensor(0.6207)\n",
            "tensor(0.6174)\n",
            "tensor(0.6196)\n",
            "tensor(0.6145)\n",
            "tensor(0.6162)\n",
            "tensor(0.6141)\n",
            "tensor(0.6211)\n",
            "tensor(0.6141)\n",
            "tensor(0.6132)\n",
            "tensor(0.4018)\n",
            "tensor(0.4772)\n",
            "tensor(0.5260)\n",
            "tensor(0.5463)\n",
            "tensor(0.5735)\n",
            "tensor(0.5767)\n",
            "tensor(0.5883)\n",
            "tensor(0.5946)\n",
            "tensor(0.6069)\n",
            "tensor(0.6186)\n",
            "tensor(0.6156)\n",
            "tensor(0.6317)\n",
            "tensor(0.6271)\n",
            "tensor(0.6319)\n",
            "tensor(0.6402)\n",
            "tensor(0.6308)\n",
            "tensor(0.6394)\n",
            "tensor(0.6424)\n",
            "tensor(0.6472)\n",
            "tensor(0.6445)\n",
            "tensor(0.6454)\n",
            "tensor(0.6474)\n",
            "tensor(0.6462)\n",
            "tensor(0.6398)\n",
            "tensor(0.6497)\n",
            "tensor(0.6422)\n",
            "tensor(0.6454)\n",
            "tensor(0.6444)\n",
            "tensor(0.6404)\n",
            "tensor(0.6433)\n",
            "tensor(0.5442)\n",
            "tensor(0.5707)\n",
            "tensor(0.6159)\n",
            "tensor(0.6372)\n",
            "tensor(0.6499)\n",
            "tensor(0.6459)\n",
            "tensor(0.6599)\n",
            "tensor(0.6497)\n",
            "tensor(0.6514)\n",
            "tensor(0.6572)\n",
            "tensor(0.6580)\n",
            "tensor(0.6539)\n",
            "tensor(0.6421)\n",
            "tensor(0.6472)\n",
            "tensor(0.6476)\n",
            "tensor(0.6508)\n",
            "tensor(0.6556)\n",
            "tensor(0.6435)\n",
            "tensor(0.6460)\n",
            "tensor(0.6440)\n",
            "tensor(0.6409)\n",
            "tensor(0.6402)\n",
            "tensor(0.6294)\n",
            "tensor(0.6436)\n",
            "tensor(0.6392)\n",
            "tensor(0.6411)\n",
            "tensor(0.6403)\n",
            "tensor(0.6383)\n",
            "tensor(0.6411)\n",
            "tensor(0.6354)\n"
          ],
          "name": "stdout"
        }
      ]
    },
    {
      "cell_type": "code",
      "metadata": {
        "id": "85ETGRGWFmOv",
        "colab_type": "code",
        "outputId": "dffb5f6a-af34-46be-e57d-ed0ea1f724b6",
        "colab": {
          "base_uri": "https://localhost:8080/",
          "height": 281
        }
      },
      "source": [
        "\n",
        "for experiment_id in accuracies.keys():\n",
        "    plt.plot(accuracies[experiment_id], label=experiment_id)\n",
        "plt.legend()\n",
        "plt.title('Validation Accuracy');"
      ],
      "execution_count": 0,
      "outputs": [
        {
          "output_type": "display_data",
          "data": {
            "image/png": "[encoded data removed]",
            "text/plain": [
              "<Figure size 432x288 with 1 Axes>"
            ]
          },
          "metadata": {
            "tags": [],
            "needs_background": "light"
          }
        }
      ]
    },
    {
      "cell_type": "code",
      "metadata": {
        "id": "uFrS6DWsFqOo",
        "colab_type": "code",
        "outputId": "d8ff388a-10b8-4bb5-e6a1-d6c65e9182b0",
        "colab": {
          "base_uri": "https://localhost:8080/",
          "height": 281
        }
      },
      "source": [
        "for experiment_id in losses.keys():\n",
        "    plt.plot(losses[experiment_id], label=experiment_id)\n",
        "plt.legend()\n",
        "plt.title('Validation Loss');"
      ],
      "execution_count": 0,
      "outputs": [
        {
          "output_type": "display_data",
          "data": {
            "image/png": "[encoded data removed]",
            "text/plain": [
              "<Figure size 432x288 with 1 Axes>"
            ]
          },
          "metadata": {
            "tags": [],
            "needs_background": "light"
          }
        }
      ]
    },
    {
      "cell_type": "code",
      "metadata": {
        "id": "xNfdJoSSFt5W",
        "colab_type": "code",
        "colab": {}
      },
      "source": [
        "class CIFARNet(torch.nn.Module):\n",
        "    def __init__(self):\n",
        "        super(CIFARNet, self).__init__()\n",
        "        self.batch_norm0 = torch.nn.BatchNorm2d(3)\n",
        "\n",
        "        self.conv1 = torch.nn.Conv2d(3, 16, 3, padding=1)\n",
        "        self.act1  = torch.nn.ReLU()\n",
        "        self.batch_norm1 = torch.nn.BatchNorm2d(16)\n",
        "        self.pool1 = torch.nn.MaxPool2d(2, 2)\n",
        "        \n",
        "        self.conv2 = torch.nn.Conv2d(16, 32, 3, padding=1)\n",
        "        self.act2  = torch.nn.ReLU()\n",
        "        self.batch_norm2 = torch.nn.BatchNorm2d(32)\n",
        "        self.pool2 = torch.nn.MaxPool2d(2, 2)\n",
        "        \n",
        "        self.conv3 = torch.nn.Conv2d(32, 64, 3, padding=1)\n",
        "        self.act3  = torch.nn.ReLU()\n",
        "        self.batch_norm3 = torch.nn.BatchNorm2d(64)\n",
        "\n",
        "        self.fc1   = torch.nn.Linear(8 * 8 * 64, 256)\n",
        "        self.act4  = torch.nn.Tanh()\n",
        "        self.batch_norm4 = torch.nn.BatchNorm1d(256)\n",
        "        \n",
        "        self.fc2   = torch.nn.Linear(256, 64)\n",
        "        self.act5  = torch.nn.Tanh()\n",
        "        self.batch_norm5 = torch.nn.BatchNorm1d(64)\n",
        "        \n",
        "        self.fc3   = torch.nn.Linear(64, 10)\n",
        "    \n",
        "    def forward(self, x):\n",
        "        x = self.batch_norm0(x)\n",
        "        x = self.conv1(x)\n",
        "        x = self.act1(x)\n",
        "        x = self.batch_norm1(x)\n",
        "        x = self.pool1(x)\n",
        "        \n",
        "        x = self.conv2(x)\n",
        "        x = self.act2(x)\n",
        "        x = self.batch_norm2(x)\n",
        "        x = self.pool2(x)\n",
        "        \n",
        "        x = self.conv3(x)\n",
        "        x = self.act3(x)\n",
        "        x = self.batch_norm3(x)\n",
        "        \n",
        "        x = x.view(x.size(0), x.size(1) * x.size(2) * x.size(3))\n",
        "        x = self.fc1(x)\n",
        "        x = self.act4(x)\n",
        "        x = self.batch_norm4(x)\n",
        "        x = self.fc2(x)\n",
        "        x = self.act5(x)\n",
        "        x = self.batch_norm5(x)\n",
        "        x = self.fc3(x)\n",
        "        \n",
        "        return x"
      ],
      "execution_count": 0,
      "outputs": []
    },
    {
      "cell_type": "code",
      "metadata": {
        "id": "BfmylYemFyf7",
        "colab_type": "code",
        "outputId": "33a5afce-37bd-4407-c0a5-f0b5ca97e23f",
        "colab": {
          "base_uri": "https://localhost:8080/",
          "height": 544
        }
      },
      "source": [
        "accuracies['cifar_net'], losses['cifar_net'] = \\\n",
        "    train(CIFARNet(), X_train, y_train, X_test, y_test)"
      ],
      "execution_count": 0,
      "outputs": [
        {
          "output_type": "stream",
          "text": [
            "tensor(0.6740)\n",
            "tensor(0.6964)\n",
            "tensor(0.7151)\n",
            "tensor(0.7279)\n",
            "tensor(0.7388)\n",
            "tensor(0.7287)\n",
            "tensor(0.7192)\n",
            "tensor(0.7263)\n",
            "tensor(0.7224)\n",
            "tensor(0.7239)\n",
            "tensor(0.7281)\n",
            "tensor(0.7257)\n",
            "tensor(0.7244)\n",
            "tensor(0.7227)\n",
            "tensor(0.7177)\n",
            "tensor(0.7278)\n",
            "tensor(0.7168)\n",
            "tensor(0.7209)\n",
            "tensor(0.7219)\n",
            "tensor(0.7211)\n",
            "tensor(0.7108)\n",
            "tensor(0.7274)\n",
            "tensor(0.7207)\n",
            "tensor(0.7243)\n",
            "tensor(0.7224)\n",
            "tensor(0.7224)\n",
            "tensor(0.7267)\n",
            "tensor(0.7272)\n",
            "tensor(0.7240)\n",
            "tensor(0.7295)\n"
          ],
          "name": "stdout"
        }
      ]
    },
    {
      "cell_type": "code",
      "metadata": {
        "id": "8nm-2MRqF2I4",
        "colab_type": "code",
        "colab": {}
      },
      "source": [
        "for experiment_id in accuracies.keys():\n",
        "    plt.plot(accuracies[experiment_id], label=experiment_id)\n",
        "plt.legend()\n",
        "plt.title('Validation Accuracy');"
      ],
      "execution_count": 0,
      "outputs": []
    },
    {
      "cell_type": "code",
      "metadata": {
        "id": "bGfY0kzJF4aT",
        "colab_type": "code",
        "colab": {}
      },
      "source": [
        "for experiment_id in losses.keys():\n",
        "    plt.plot(losses[experiment_id], label=experiment_id)\n",
        "plt.legend()\n",
        "plt.title('Validation Loss');"
      ],
      "execution_count": 0,
      "outputs": []
    }
  ]
}