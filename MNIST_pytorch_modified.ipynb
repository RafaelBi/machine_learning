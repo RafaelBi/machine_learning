{
  "nbformat": 4,
  "nbformat_minor": 0,
  "metadata": {
    "colab": {
      "name": "MNIST_mod",
      "provenance": [],
      "private_outputs": true,
      "collapsed_sections": [],
      "authorship_tag": "ABX9TyMPJ3eRcdmm03QL3dW4qIQw"
    },
    "kernelspec": {
      "name": "python3",
      "display_name": "Python 3"
    },
    "accelerator": "GPU"
  },
  "cells": [
    {
      "cell_type": "code",
      "metadata": {
        "id": "rj2WzZkmlUhT",
        "colab_type": "code",
        "colab": {}
      },
      "source": [
        "import torch\n",
        "import random\n",
        "import numpy as np\n",
        "import matplotlib.pyplot as plt\n",
        "\n",
        "\n",
        "random.seed(0)\n",
        "np.random.seed(0)\n",
        "torch.manual_seed(0)\n",
        "torch.cuda.manual_seed(0)\n",
        "torch.backends.cudnn.deterministic = False"
      ],
      "execution_count": 0,
      "outputs": []
    },
    {
      "cell_type": "code",
      "metadata": {
        "id": "b-z0ksCvceVU",
        "colab_type": "code",
        "colab": {}
      },
      "source": [
        "import torchvision.datasets"
      ],
      "execution_count": 0,
      "outputs": []
    },
    {
      "cell_type": "code",
      "metadata": {
        "id": "uQ6avG5A4LG7",
        "colab_type": "code",
        "colab": {}
      },
      "source": [
        "MNIST_train = torchvision.datasets.MNIST('./', download=True, train=True)\n",
        "MNIST_test = torchvision.datasets.MNIST('./', download=True, train=False)"
      ],
      "execution_count": 0,
      "outputs": []
    },
    {
      "cell_type": "code",
      "metadata": {
        "id": "yguslm1l4QRy",
        "colab_type": "code",
        "colab": {}
      },
      "source": [
        "X_train = MNIST_train.train_data\n",
        "y_train = MNIST_train.train_labels\n",
        "X_test = MNIST_test.test_data\n",
        "y_test = MNIST_test.test_labels"
      ],
      "execution_count": 0,
      "outputs": []
    },
    {
      "cell_type": "code",
      "metadata": {
        "id": "72FKoVUy4S-g",
        "colab_type": "code",
        "colab": {}
      },
      "source": [
        "len(y_train), len(y_test)"
      ],
      "execution_count": 0,
      "outputs": []
    },
    {
      "cell_type": "code",
      "metadata": {
        "id": "JRvrCt_T4ZUX",
        "colab_type": "code",
        "colab": {}
      },
      "source": [
        "import matplotlib.pyplot as plt\n",
        "plt.imshow(X_train[0, :, :])\n",
        "plt.show()\n",
        "print(y_train[0])"
      ],
      "execution_count": 0,
      "outputs": []
    },
    {
      "cell_type": "code",
      "metadata": {
        "id": "XO9-W9b54cOm",
        "colab_type": "code",
        "colab": {}
      },
      "source": [
        "X_train = X_train.unsqueeze(1).float()\n",
        "X_test = X_test.unsqueeze(1).float()"
      ],
      "execution_count": 0,
      "outputs": []
    },
    {
      "cell_type": "code",
      "metadata": {
        "id": "PgOqgvbC4fF_",
        "colab_type": "code",
        "colab": {}
      },
      "source": [
        "X_train.shape"
      ],
      "execution_count": 0,
      "outputs": []
    },
    {
      "cell_type": "code",
      "metadata": {
        "id": "KqWMlXAw4iYJ",
        "colab_type": "code",
        "colab": {}
      },
      "source": [
        "class LeNet5(torch.nn.Module):\n",
        "    def __init__(self,\n",
        "                 activation='tanh',\n",
        "                 pooling='avg',\n",
        "                 conv_size=5,\n",
        "                 use_batch_norm=False):\n",
        "        super(LeNet5, self).__init__()\n",
        "        \n",
        "        self.conv_size = conv_size\n",
        "        self.use_batch_norm = use_batch_norm\n",
        "        \n",
        "        if activation == 'tanh':\n",
        "            activation_function = torch.nn.Tanh()\n",
        "        elif activation == 'sigmoid':\n",
        "            activation_function  = torch.nn.Sigmoid()\n",
        "        elif activation == 'relu':\n",
        "            activation_function  = torch.nn.ReLU()\n",
        "        else:\n",
        "            raise NotImplementedError\n",
        "            \n",
        "        if pooling == 'avg':\n",
        "            pooling_layer = torch.nn.AvgPool2d(kernel_size=2, stride=2)\n",
        "        elif pooling == 'max':\n",
        "            pooling_layer  = torch.nn.MaxPool2d(kernel_size=2, stride=2)\n",
        "        else:\n",
        "            raise NotImplementedError\n",
        "        \n",
        "        if conv_size == 5:\n",
        "            self.conv1 = torch.nn.Conv2d(\n",
        "                in_channels=1, out_channels=6, kernel_size=5, padding=2)\n",
        "        elif conv_size == 3:\n",
        "            self.conv1_1 = torch.nn.Conv2d(\n",
        "                in_channels=1, out_channels=6, kernel_size=3, padding=1)\n",
        "            self.conv1_2 = torch.nn.Conv2d(\n",
        "                in_channels=6, out_channels=6, kernel_size=3, padding=1)\n",
        "        else:\n",
        "            raise NotImplementedError\n",
        "\n",
        "        self.act1 = activation_function\n",
        "        self.bn1 = torch.nn.BatchNorm2d(num_features=6)\n",
        "        self.pool1 = pooling_layer\n",
        "       \n",
        "        if conv_size == 5:\n",
        "            self.conv2 = self.conv2 = torch.nn.Conv2d(\n",
        "                in_channels=6, out_channels=16, kernel_size=5, padding=0)\n",
        "        elif conv_size == 3:\n",
        "            self.conv2_1 = torch.nn.Conv2d(\n",
        "                in_channels=6, out_channels=16, kernel_size=3, padding=0)\n",
        "            self.conv2_2 = torch.nn.Conv2d(\n",
        "                in_channels=16, out_channels=16, kernel_size=3, padding=0)\n",
        "        else:\n",
        "            raise NotImplementedError\n",
        "\n",
        "        self.act2 = activation_function\n",
        "        self.bn2 = torch.nn.BatchNorm2d(num_features=16)\n",
        "        self.pool2 = pooling_layer\n",
        "        \n",
        "        self.fc1 = torch.nn.Linear(5 * 5 * 16, 120)\n",
        "        self.act3 = activation_function\n",
        "    \n",
        "        self.fc2 = torch.nn.Linear(120, 84)\n",
        "        self.act4 = activation_function\n",
        "        \n",
        "        self.fc3 = torch.nn.Linear(84, 10)\n",
        "    \n",
        "    def forward(self, x):\n",
        "        if self.conv_size == 5:\n",
        "            x = self.conv1(x)\n",
        "        elif self.conv_size == 3:\n",
        "            x = self.conv1_2(self.conv1_1(x))\n",
        "        x = self.act1(x)\n",
        "        if self.use_batch_norm:\n",
        "            x = self.bn1(x)\n",
        "        x = self.pool1(x)\n",
        "        \n",
        "        if self.conv_size == 5:\n",
        "            x = self.conv2(x)\n",
        "        elif self.conv_size == 3:\n",
        "            x = self.conv2_2(self.conv2_1(x))\n",
        "        x = self.act2(x)\n",
        "        if self.use_batch_norm:\n",
        "            x = self.bn2(x)\n",
        "        x = self.pool2(x)\n",
        "        \n",
        "        x = x.view(x.size(0), x.size(1) * x.size(2) * x.size(3))\n",
        "        x = self.fc1(x)\n",
        "        x = self.act3(x)\n",
        "        x = self.fc2(x)\n",
        "        x = self.act4(x)\n",
        "        x = self.fc3(x)\n",
        "        \n",
        "        return x"
      ],
      "execution_count": 0,
      "outputs": []
    },
    {
      "cell_type": "code",
      "metadata": {
        "id": "AuScVmU54oXC",
        "colab_type": "code",
        "colab": {}
      },
      "source": [
        "def train(net, X_train, y_train, X_test, y_test,batch_size,optimizer,lr):\n",
        "    device = torch.device('cuda:0' if torch.cuda.is_available() else 'cpu')\n",
        "    net = net.to(device)\n",
        "    loss = torch.nn.CrossEntropyLoss()\n",
        "    lr=lr\n",
        "    optimizer =optimizer(net.parameters(), lr=lr)\n",
        "    \n",
        "    batch_size = batch_size\n",
        "    \n",
        "\n",
        "    test_accuracy_history = []\n",
        "    test_loss_history = []\n",
        "\n",
        "    X_test = X_test.to(device)\n",
        "    y_test = y_test.to(device)\n",
        "\n",
        "    for epoch in range(20):\n",
        "        order = np.random.permutation(len(X_train))\n",
        "        for start_index in range(0, len(X_train), batch_size):\n",
        "            optimizer.zero_grad()\n",
        "            net.train()\n",
        "\n",
        "            batch_indexes = order[start_index:start_index+batch_size]\n",
        "\n",
        "            X_batch = X_train[batch_indexes].to(device)\n",
        "            y_batch = y_train[batch_indexes].to(device)\n",
        "\n",
        "            preds = net.forward(X_batch) \n",
        "\n",
        "            loss_value = loss(preds, y_batch)\n",
        "            loss_value.backward()\n",
        "\n",
        "            optimizer.step()\n",
        "\n",
        "        net.eval()\n",
        "        test_preds = net.forward(X_test)\n",
        "        test_loss_history.append(loss(test_preds, y_test).data.cpu())\n",
        "        test_pr=test_preds\n",
        "\n",
        "        accuracy = (test_preds.argmax(dim=1) == y_test).float().mean().data.cpu()\n",
        "        test_accuracy_history.append(accuracy)\n",
        "\n",
        "        print('{} {}'.format(epoch,accuracy))\n",
        "    \n",
        "    return test_accuracy_history, test_loss_history\n",
        "\n",
        "\n",
        "\n",
        "\n",
        "\n"
      ],
      "execution_count": 0,
      "outputs": []
    },
    {
      "cell_type": "code",
      "metadata": {
        "id": "rvETG_PQIdeq",
        "colab_type": "code",
        "colab": {}
      },
      "source": [
        "import matplotlib.pyplot as plt\n",
        "from datetime import datetime\n",
        "import time\n",
        "\n",
        "start_time = datetime.now()\n",
        "\n",
        "accuracies = {}\n",
        "losses = {}\n",
        "\n",
        "fig, axes = plt.subplots(nrows=3, ncols=2,figsize=(20,30))\n",
        "i=0\n",
        "j=0\n",
        "\n",
        "for size in range(120,121,20):\n",
        "  print('batch_size is {}'.format(size))\n",
        "  print('---------------------------')\n",
        "\n",
        "\n",
        "  print('tanh')\n",
        "  accuracies['tanh'], losses['tanh'] = \\\n",
        "    train(LeNet5(activation='tanh', conv_size=5),\n",
        "          X_train, y_train, X_test, y_test, batch_size=size,optimizer= torch.optim.SGD, lr=0.01)\n",
        "  print('...........................')\n",
        "  \"\"\"\n",
        "  print('sigmoid')\n",
        "  accuracies['sigmoid'], losses['sigmoid'] = \\\n",
        "    train(LeNet5(activation='sigmoid', conv_size=5),\n",
        "          X_train, y_train, X_test, y_test, batch_size=size,optimizer= torch.optim.SGD,lr=0.01)\n",
        "  print('...........................') \n",
        "  \n",
        "  print('relu')\n",
        "  accuracies['relu'], losses['relu'] = \\\n",
        "    train(LeNet5(activation='relu', conv_size=5),\n",
        "          X_train, y_train, X_test, y_test, batch_size=size,optimizer= torch.optim.SGD,lr=0.01)\n",
        "  print('...........................')\n",
        "  \n",
        "  print('relu_lr_0.1')\n",
        "  accuracies['relu_lr_0.1'], losses['relu_lr_0.1'] = \\\n",
        "    train(LeNet5(activation='relu', conv_size=5),\n",
        "          X_train, y_train, X_test, y_test, batch_size=size,optimizer= torch.optim.SGD,lr=0.1)\n",
        "  print('...........................')\n",
        "\n",
        "  print('relu_adam')\n",
        "  accuracies['relu_adam'], losses['relu_adam'] = \\\n",
        "    train(LeNet5(activation='relu', conv_size=5),\n",
        "          X_train, y_train, X_test, y_test, batch_size=size,optimizer= torch.optim.Adam,lr=1.0e-3)\n",
        "  print('...........................')\n",
        "  \n",
        "  \n",
        "  print('relu_adam_3')\n",
        "  accuracies['relu_adam_3'], losses['relu_adam_3'] = \\\n",
        "    train(LeNet5(activation='relu', conv_size=3),\n",
        "          X_train, y_train, X_test, y_test, batch_size=size,optimizer= torch.optim.Adam,lr=1.0e-3)\n",
        "  print('...........................')\n",
        "  \n",
        "  print('relu_adam_3_mx_pl')\n",
        "  accuracies['relu_adam_3_mx_pl'], losses['relu_adam_3_mx_pl'] = \\\n",
        "    train(LeNet5(activation='relu', conv_size=3, pooling='max'), \n",
        "          X_train, y_train, X_test, y_test, batch_size=size,optimizer= torch.optim.Adam,lr=1.0e-3)\n",
        "  print('...........................')  \n",
        "  \"\"\"\n",
        "  print('relu_adam_3_mx_pl_bn')\n",
        "  accuracies['relu_3_max_pool_bn'], losses['relu_3_max_pool_bn'] = \\\n",
        "    train(LeNet5(activation='relu', conv_size=3, pooling='max', use_batch_norm=True), \n",
        "          X_train, y_train, X_test, y_test, batch_size=size, optimizer= torch.optim.Adam, lr=1.0e-3)\n",
        "  print('...........................')\n",
        "  \n",
        "\n",
        "  for experiment_id in accuracies.keys():\n",
        "    axes[i,j].plot(accuracies[experiment_id], label=experiment_id)\n",
        "  axes[i,j].legend()\n",
        "  axes[i,j].set_title('Batch size is {}'.format(size))\n",
        "  #axes[i,j].set_xlim(0,100)\n",
        "  axes[i,j].set_ylim(0.96,0.998)\n",
        "  axes[i,j].set_xticks(np.arange(0, 101, 5))\n",
        "  axes[i,j].set_yticks(np.arange(0.96, 0.998, 0.002))\n",
        "  axes[i,j].grid()\n",
        "\n",
        "  j+=1\n",
        "  if(j==2):\n",
        "    j=0\n",
        "    i+=1\n",
        "fig.tight_layout()  \n",
        "plt.show()\n",
        "print(datetime.now() - start_time)"
      ],
      "execution_count": 0,
      "outputs": []
    },
    {
      "cell_type": "code",
      "metadata": {
        "id": "QKNaDSNMPZ3O",
        "colab_type": "code",
        "colab": {}
      },
      "source": [
        "for experiment_id in accuracies.keys():\n",
        "    plt.plot(losses[experiment_id], label=experiment_id)\n",
        "plt.grid()\n",
        "plt.ylim(0,0.2)\n",
        "plt.xlim(0,50)\n",
        "plt.title('Losses')\n",
        "plt.ylabel('Loss-value')\n",
        "plt.xlabel('epoch number')"
      ],
      "execution_count": 0,
      "outputs": []
    },
    {
      "cell_type": "code",
      "metadata": {
        "id": "gEIo5PLLhhFb",
        "colab_type": "code",
        "colab": {}
      },
      "source": [
        "#не правильно опознанные цифры по 'relu_3_max_pool_bn' на 5 эпохах\n",
        "errors=[]\n",
        "\n",
        "def train1(net, X_train, y_train, X_test, y_test,batch_size,optimizer,lr):\n",
        "    device = torch.device('cuda:0' if torch.cuda.is_available() else 'cpu')\n",
        "    net = net.to(device)\n",
        "    loss = torch.nn.CrossEntropyLoss()\n",
        "    lr=lr\n",
        "    optimizer =optimizer(net.parameters(), lr=lr)\n",
        "    \n",
        "    batch_size = batch_size\n",
        "\n",
        "    test_accuracy_history = []\n",
        "    test_loss_history = []\n",
        "\n",
        "    X_test = X_test.to(device)\n",
        "    y_test = y_test.to(device)\n",
        "\n",
        "    for epoch in range(5):\n",
        "        order = np.random.permutation(len(X_train))\n",
        "        for start_index in range(0, len(X_train), batch_size):\n",
        "            optimizer.zero_grad()\n",
        "            net.train()\n",
        "\n",
        "            batch_indexes = order[start_index:start_index+batch_size]\n",
        "\n",
        "            X_batch = X_train[batch_indexes].to(device)\n",
        "            y_batch = y_train[batch_indexes].to(device)\n",
        "\n",
        "            preds = net.forward(X_batch) \n",
        "\n",
        "            loss_value = loss(preds, y_batch)\n",
        "            loss_value.backward()\n",
        "\n",
        "            optimizer.step()\n",
        "\n",
        "        net.eval()\n",
        "        test_preds = net.forward(X_test)\n",
        "        test_loss_history.append(loss(test_preds, y_test).data.cpu())\n",
        "          \n",
        "\n",
        "        accuracy = (test_preds.argmax(dim=1) == y_test).float().mean().data.cpu()\n",
        "        test_accuracy_history.append(accuracy)\n",
        "\n",
        "        print(epoch+1,accuracy)\n",
        "\n",
        "        if(epoch==4):\n",
        "          test_preds=test_preds.argmax(dim=1)\n",
        "          for a in range (0,10000):\n",
        "            if(test_preds[a]!=y_test[a]):\n",
        "              errors.append([a,test_preds[a].cpu().detach().numpy(),y_test[a].cpu().numpy()])\n",
        "\n",
        "    print('---------------')\n",
        "    \n",
        "    print(len(errors))\n",
        "    print(errors)\n",
        "    \n",
        "    return test_accuracy_history, test_loss_history\n",
        "    \n",
        "\n",
        "accuracies1 = {}\n",
        "\n",
        "\n",
        "accuracies1['relu_3_max_pool_bn'] = \\\n",
        "    train1(LeNet5(activation='relu', conv_size=3, pooling='max', use_batch_norm=True), \n",
        "          X_train, y_train, X_test, y_test, batch_size=100, optimizer= torch.optim.Adam, lr=1.0e-3)"
      ],
      "execution_count": 0,
      "outputs": []
    },
    {
      "cell_type": "code",
      "metadata": {
        "id": "9MpsSq1mhweY",
        "colab_type": "code",
        "colab": {}
      },
      "source": [
        "errors"
      ],
      "execution_count": 0,
      "outputs": []
    },
    {
      "cell_type": "code",
      "metadata": {
        "id": "ZhIwxmWC4nSb",
        "colab_type": "code",
        "colab": {}
      },
      "source": [
        "X_test=X_test.squeeze(1)"
      ],
      "execution_count": 0,
      "outputs": []
    },
    {
      "cell_type": "code",
      "metadata": {
        "id": "TEC4ZJnl4hIn",
        "colab_type": "code",
        "colab": {}
      },
      "source": [
        "X_test.shape"
      ],
      "execution_count": 0,
      "outputs": []
    },
    {
      "cell_type": "code",
      "metadata": {
        "id": "nEgJnKa9-fJt",
        "colab_type": "code",
        "colab": {}
      },
      "source": [
        "fig=plt.figure(figsize=(25, 15))\n",
        "\n",
        "columns = 7\n",
        "rows = 3\n",
        "for i in range(1, columns*rows +1):\n",
        "    fig.add_subplot(rows, columns, i)\n",
        "    plt.imshow(X_test[errors[i][0], :, :])\n",
        "    plt.title('predicted: {}'.format(errors[i][1]),fontsize=30)\n",
        "    \n",
        "    plt.xlabel('real: {}'.format(errors[i][2]),fontsize=30)\n",
        "fig.tight_layout()  \n",
        "plt.show()"
      ],
      "execution_count": 0,
      "outputs": []
    },
    {
      "cell_type": "code",
      "metadata": {
        "id": "F3rJE3IVpwLE",
        "colab_type": "code",
        "colab": {}
      },
      "source": [
        "import pandas as pd"
      ],
      "execution_count": 0,
      "outputs": []
    },
    {
      "cell_type": "code",
      "metadata": {
        "id": "7M5qGbL4p0DA",
        "colab_type": "code",
        "colab": {}
      },
      "source": [
        "df=pd.DataFrame(errors)\n",
        "df.columns=['Position','Predicted','Real']\n",
        "df.head()"
      ],
      "execution_count": 0,
      "outputs": []
    }
  ]
}